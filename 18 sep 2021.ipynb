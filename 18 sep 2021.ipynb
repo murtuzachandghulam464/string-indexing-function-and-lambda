{
 "cells": [
  {
   "cell_type": "markdown",
   "id": "7531d1b8",
   "metadata": {},
   "source": [
    "### String Indexing"
   ]
  },
  {
   "cell_type": "code",
   "execution_count": 2,
   "id": "d2adb525",
   "metadata": {},
   "outputs": [],
   "source": [
    "t = 'Python and Machine Learning'"
   ]
  },
  {
   "cell_type": "code",
   "execution_count": 3,
   "id": "499ca5e6",
   "metadata": {},
   "outputs": [
    {
     "data": {
      "text/plain": [
       "'Python and Machine Learning'"
      ]
     },
     "execution_count": 3,
     "metadata": {},
     "output_type": "execute_result"
    }
   ],
   "source": [
    "t"
   ]
  },
  {
   "cell_type": "code",
   "execution_count": 9,
   "id": "0aa7c8cf",
   "metadata": {},
   "outputs": [
    {
     "data": {
      "text/plain": [
       "'P'"
      ]
     },
     "execution_count": 9,
     "metadata": {},
     "output_type": "execute_result"
    }
   ],
   "source": [
    "t[0] # fetch only 0 index "
   ]
  },
  {
   "cell_type": "code",
   "execution_count": 10,
   "id": "61247a5c",
   "metadata": {},
   "outputs": [
    {
     "data": {
      "text/plain": [
       "'n'"
      ]
     },
     "execution_count": 10,
     "metadata": {},
     "output_type": "execute_result"
    }
   ],
   "source": [
    "t[5] # fetch only 5th index"
   ]
  },
  {
   "cell_type": "code",
   "execution_count": 11,
   "id": "06f7328a",
   "metadata": {},
   "outputs": [
    {
     "data": {
      "text/plain": [
       "'Python and Mach'"
      ]
     },
     "execution_count": 11,
     "metadata": {},
     "output_type": "execute_result"
    }
   ],
   "source": [
    "t[0:15] #[starding point including : ending point excluding]"
   ]
  },
  {
   "cell_type": "code",
   "execution_count": 12,
   "id": "52fd3c80",
   "metadata": {},
   "outputs": [
    {
     "data": {
      "text/plain": [
       "'Python and Machine Learning'"
      ]
     },
     "execution_count": 12,
     "metadata": {},
     "output_type": "execute_result"
    }
   ],
   "source": [
    "t[0:] # fetch starting from index no. 0 and end index no. not mention means it count upto last inderx"
   ]
  },
  {
   "cell_type": "code",
   "execution_count": 13,
   "id": "6c118437",
   "metadata": {},
   "outputs": [
    {
     "data": {
      "text/plain": [
       "'Pto n ah'"
      ]
     },
     "execution_count": 13,
     "metadata": {},
     "output_type": "execute_result"
    }
   ],
   "source": [
    "t[0:16:2] # here 2 is step size"
   ]
  },
  {
   "cell_type": "code",
   "execution_count": 15,
   "id": "328bb73f",
   "metadata": {},
   "outputs": [
    {
     "data": {
      "text/plain": [
       "'Pto n ahn erig'"
      ]
     },
     "execution_count": 15,
     "metadata": {},
     "output_type": "execute_result"
    }
   ],
   "source": [
    "t[0::2] # here end point missing by default it count upto last index no. "
   ]
  },
  {
   "cell_type": "code",
   "execution_count": 16,
   "id": "51603f24",
   "metadata": {},
   "outputs": [
    {
     "data": {
      "text/plain": [
       "'Python and Machine Learning'"
      ]
     },
     "execution_count": 16,
     "metadata": {},
     "output_type": "execute_result"
    }
   ],
   "source": [
    "t[::]"
   ]
  },
  {
   "cell_type": "code",
   "execution_count": 17,
   "id": "602c7cf0",
   "metadata": {},
   "outputs": [
    {
     "data": {
      "text/plain": [
       "'Pto n ahn erig'"
      ]
     },
     "execution_count": 17,
     "metadata": {},
     "output_type": "execute_result"
    }
   ],
   "source": [
    "t[::2]"
   ]
  },
  {
   "cell_type": "code",
   "execution_count": 18,
   "id": "dc5863a8",
   "metadata": {},
   "outputs": [
    {
     "data": {
      "text/plain": [
       "'gninraeL enihcaM dna nohtyP'"
      ]
     },
     "execution_count": 18,
     "metadata": {},
     "output_type": "execute_result"
    }
   ],
   "source": [
    "t[::-1] # here starting from last index and index value is 1"
   ]
  },
  {
   "cell_type": "code",
   "execution_count": 20,
   "id": "6fbe6e15",
   "metadata": {},
   "outputs": [
    {
     "data": {
      "text/plain": [
       "'gninraeL enihcaM dna nohtyP'"
      ]
     },
     "execution_count": 20,
     "metadata": {},
     "output_type": "execute_result"
    }
   ],
   "source": [
    "t[::-1]"
   ]
  },
  {
   "cell_type": "code",
   "execution_count": 21,
   "id": "2c8ef38c",
   "metadata": {},
   "outputs": [
    {
     "name": "stdout",
     "output_type": "stream",
     "text": [
      "['P', 'y', 't', 'h', 'o', 'n', ' ', 'a', 'n', 'd', ' ', 'M', 'a', 'c', 'h', 'i', 'n', 'e', ' ', 'L', 'e', 'a', 'r', 'n', 'i', 'n', 'g']\n"
     ]
    }
   ],
   "source": [
    "print(list(t))"
   ]
  },
  {
   "cell_type": "code",
   "execution_count": 23,
   "id": "89c2ac40",
   "metadata": {},
   "outputs": [
    {
     "data": {
      "text/plain": [
       "'icMda'"
      ]
     },
     "execution_count": 23,
     "metadata": {},
     "output_type": "execute_result"
    }
   ],
   "source": [
    "t[15:5:-2]"
   ]
  },
  {
   "cell_type": "markdown",
   "id": "d9030bf6",
   "metadata": {},
   "source": [
    "## FUNCTIONS"
   ]
  },
  {
   "cell_type": "code",
   "execution_count": 26,
   "id": "77223004",
   "metadata": {},
   "outputs": [],
   "source": [
    "def say_hello():\n",
    "    \n",
    "    print('This is just a sample')"
   ]
  },
  {
   "cell_type": "code",
   "execution_count": 27,
   "id": "550defd4",
   "metadata": {},
   "outputs": [
    {
     "name": "stdout",
     "output_type": "stream",
     "text": [
      "This is just a sample\n"
     ]
    }
   ],
   "source": [
    "say_hello()"
   ]
  },
  {
   "cell_type": "code",
   "execution_count": 28,
   "id": "4e651879",
   "metadata": {},
   "outputs": [
    {
     "name": "stdout",
     "output_type": "stream",
     "text": [
      "Hello  Dear Students\n"
     ]
    }
   ],
   "source": [
    "def greeting (name):\n",
    "    print('Hello ', name)\n",
    "greeting ('Dear Students')    "
   ]
  },
  {
   "cell_type": "code",
   "execution_count": 31,
   "id": "6845f53a",
   "metadata": {},
   "outputs": [
    {
     "name": "stdout",
     "output_type": "stream",
     "text": [
      "Hello Dear Students \n"
     ]
    }
   ],
   "source": [
    "# another way of using def function\n",
    "def greeting (name):\n",
    "    print('Hello %s ' %name)\n",
    "greeting ('Dear Students')  "
   ]
  },
  {
   "cell_type": "markdown",
   "id": "acb6ca34",
   "metadata": {},
   "source": [
    "#### SALARY UPDATE using return"
   ]
  },
  {
   "cell_type": "code",
   "execution_count": 44,
   "id": "a8e2fcc1",
   "metadata": {},
   "outputs": [
    {
     "name": "stdout",
     "output_type": "stream",
     "text": [
      "Your New Salary = 10000\n"
     ]
    }
   ],
   "source": [
    "def salary_incr(salary):\n",
    "    if salary <= 9000:\n",
    "        return (salary + 1000)\n",
    "    else:\n",
    "        return salary\n",
    "print('Your New Salary =',salary_incr(9000))        "
   ]
  },
  {
   "cell_type": "markdown",
   "id": "27d9a954",
   "metadata": {},
   "source": [
    "#### With multiple arguments (adding students marks)"
   ]
  },
  {
   "cell_type": "code",
   "execution_count": 3,
   "id": "76de506b",
   "metadata": {},
   "outputs": [
    {
     "name": "stdout",
     "output_type": "stream",
     "text": [
      "Your total marks = 209\n"
     ]
    }
   ],
   "source": [
    "def student_marks(math,science,english):\n",
    "    return (math + science + english)\n",
    "print('Your total marks =',student_marks(55,65,89))"
   ]
  },
  {
   "cell_type": "code",
   "execution_count": 10,
   "id": "b422466d",
   "metadata": {},
   "outputs": [],
   "source": [
    "Rinky_marks = student_marks(94,74,82)"
   ]
  },
  {
   "cell_type": "code",
   "execution_count": 11,
   "id": "09261b6a",
   "metadata": {},
   "outputs": [
    {
     "data": {
      "text/plain": [
       "250"
      ]
     },
     "execution_count": 11,
     "metadata": {},
     "output_type": "execute_result"
    }
   ],
   "source": [
    "Rinky_marks"
   ]
  },
  {
   "cell_type": "code",
   "execution_count": 14,
   "id": "7864b806",
   "metadata": {},
   "outputs": [
    {
     "name": "stdout",
     "output_type": "stream",
     "text": [
      "Rinky you are dictinction\n"
     ]
    }
   ],
   "source": [
    "if Rinky_marks < 90:\n",
    "    print('Rinky you are fail')\n",
    "elif Rinky_marks >=90 and Rinky_marks < 150:\n",
    "    print('Rinky you are pass')\n",
    "elif Rinky_marks >=150 and Rinky_marks < 250:\n",
    "    print('Rinky you are first')\n",
    "else:\n",
    "    print('Rinky you are dictinction')    "
   ]
  },
  {
   "cell_type": "code",
   "execution_count": 23,
   "id": "b0375cbf",
   "metadata": {},
   "outputs": [
    {
     "name": "stdout",
     "output_type": "stream",
     "text": [
      "faishal your total marks are 257 and you got distinction.\n"
     ]
    }
   ],
   "source": [
    "faishal_marks = student_marks(85,75,97)\n",
    "if faishal_marks < 90:\n",
    "    print('faishal your total marks are', faishal_marks , 'and you are fail.')\n",
    "elif faishal_marks >=90 and faishal_marks < 150:\n",
    "    print('faishal your total marks are', faishal_marks , 'and you are pass.')\n",
    "elif faishal_marks >=150 and faishal_marks < 250:\n",
    "    print('faishal your total marks are', faishal_marks , 'and you got first.')\n",
    "else:\n",
    "    print('faishal your total marks are', faishal_marks , 'and you got distinction.')   "
   ]
  },
  {
   "cell_type": "code",
   "execution_count": 26,
   "id": "cffef6bc",
   "metadata": {},
   "outputs": [
    {
     "name": "stdout",
     "output_type": "stream",
     "text": [
      "maths science english\n"
     ]
    }
   ],
   "source": [
    "print(student_marks('maths ','science',' english'))"
   ]
  },
  {
   "cell_type": "code",
   "execution_count": 31,
   "id": "5d4a6742",
   "metadata": {},
   "outputs": [],
   "source": [
    "def sqrt_num(number):\n",
    "    for n in range (2,number):\n",
    "        if n%2 ==0:\n",
    "            print('squared :', n**2)\n",
    "        else:\n",
    "            print('It is not even number :', n)"
   ]
  },
  {
   "cell_type": "code",
   "execution_count": 32,
   "id": "d7584064",
   "metadata": {},
   "outputs": [
    {
     "name": "stdout",
     "output_type": "stream",
     "text": [
      "squared : 4\n",
      "It is not even number : 3\n",
      "squared : 16\n",
      "It is not even number : 5\n",
      "squared : 36\n",
      "It is not even number : 7\n",
      "squared : 64\n",
      "It is not even number : 9\n",
      "squared : 100\n",
      "It is not even number : 11\n",
      "squared : 144\n",
      "It is not even number : 13\n",
      "squared : 196\n"
     ]
    }
   ],
   "source": [
    "sqrt_num(15)"
   ]
  },
  {
   "cell_type": "markdown",
   "id": "8b09b988",
   "metadata": {},
   "source": [
    "### Lambda function"
   ]
  },
  {
   "cell_type": "code",
   "execution_count": 33,
   "id": "f6995a12",
   "metadata": {},
   "outputs": [
    {
     "data": {
      "text/plain": [
       "<function __main__.<lambda>(arguments)>"
      ]
     },
     "execution_count": 33,
     "metadata": {},
     "output_type": "execute_result"
    }
   ],
   "source": [
    "lambda arguments : expression"
   ]
  },
  {
   "cell_type": "code",
   "execution_count": 34,
   "id": "7530849f",
   "metadata": {},
   "outputs": [
    {
     "name": "stdout",
     "output_type": "stream",
     "text": [
      "80\n"
     ]
    }
   ],
   "source": [
    "x = lambda y : y + 30\n",
    "print(x(50))"
   ]
  },
  {
   "cell_type": "code",
   "execution_count": 43,
   "id": "78dcf817",
   "metadata": {},
   "outputs": [
    {
     "name": "stdout",
     "output_type": "stream",
     "text": [
      "32\n"
     ]
    }
   ],
   "source": [
    "x = lambda a, b : a ** b  # it means a is base and b is power\n",
    "print(x(2,5))"
   ]
  },
  {
   "cell_type": "code",
   "execution_count": 44,
   "id": "752f5c7b",
   "metadata": {},
   "outputs": [
    {
     "name": "stdout",
     "output_type": "stream",
     "text": [
      "55\n"
     ]
    }
   ],
   "source": [
    "t = lambda a, b, c : a + b * c\n",
    "\n",
    "print(t(5,10,5))"
   ]
  },
  {
   "cell_type": "markdown",
   "id": "1cdc6f71",
   "metadata": {},
   "source": [
    "#### project by self"
   ]
  },
  {
   "cell_type": "code",
   "execution_count": 32,
   "id": "1d020b4c",
   "metadata": {},
   "outputs": [],
   "source": [
    "def counting_num(number):\n",
    "    for n in range (2, number):\n",
    "        if n<= 20 and n>=15:\n",
    "            #print('********************************************************')\n",
    "            print('less than 20 ===>', number)\n",
    "            print('********************************************************')\n",
    "        elif n>=45:\n",
    "          #  print('********************************************************')\n",
    "    \n",
    "            print('more than 45 ==<', number)\n",
    "            print('********************************************************')   "
   ]
  },
  {
   "cell_type": "code",
   "execution_count": 33,
   "id": "12a3786e",
   "metadata": {},
   "outputs": [
    {
     "name": "stdout",
     "output_type": "stream",
     "text": [
      "less than 20 ===> 51\n",
      "********************************************************\n",
      "less than 20 ===> 51\n",
      "********************************************************\n",
      "less than 20 ===> 51\n",
      "********************************************************\n",
      "less than 20 ===> 51\n",
      "********************************************************\n",
      "less than 20 ===> 51\n",
      "********************************************************\n",
      "less than 20 ===> 51\n",
      "********************************************************\n",
      "more than 45 ==< 51\n",
      "********************************************************\n",
      "more than 45 ==< 51\n",
      "********************************************************\n",
      "more than 45 ==< 51\n",
      "********************************************************\n",
      "more than 45 ==< 51\n",
      "********************************************************\n",
      "more than 45 ==< 51\n",
      "********************************************************\n",
      "more than 45 ==< 51\n",
      "********************************************************\n"
     ]
    }
   ],
   "source": [
    "counting_num(51)"
   ]
  },
  {
   "cell_type": "markdown",
   "id": "020c16c2",
   "metadata": {},
   "source": [
    "#### project with the help of class lrcturur "
   ]
  },
  {
   "cell_type": "code",
   "execution_count": 36,
   "id": "92129eb9",
   "metadata": {},
   "outputs": [
    {
     "name": "stdout",
     "output_type": "stream",
     "text": [
      "******************************\n",
      "less than 20 ==> 15\n",
      "******************************\n",
      "less than 20 ==> 16\n",
      "******************************\n",
      "less than 20 ==> 17\n",
      "******************************\n",
      "less than 20 ==> 18\n",
      "******************************\n",
      "less than 20 ==> 19\n",
      "******************************\n",
      "less than 20 ==> 20\n",
      "******************************\n",
      "more than 45 ===< 45\n",
      "******************************\n",
      "more than 45 ===< 46\n",
      "******************************\n",
      "more than 45 ===< 47\n",
      "******************************\n",
      "more than 45 ===< 48\n",
      "******************************\n",
      "more than 45 ===< 49\n",
      "******************************\n",
      "more than 45 ===< 50\n"
     ]
    }
   ],
   "source": [
    "i =range (15,51)\n",
    "for j in i:\n",
    "    if j >=45:\n",
    "        print('*'*30)\n",
    "        print('more than 45 ===<',j)\n",
    "    elif j <=20:\n",
    "        print('*'*30)\n",
    "        print('less than 20 ==>',j)"
   ]
  },
  {
   "cell_type": "code",
   "execution_count": null,
   "id": "270e8bac",
   "metadata": {},
   "outputs": [],
   "source": []
  }
 ],
 "metadata": {
  "kernelspec": {
   "display_name": "Python 3 (ipykernel)",
   "language": "python",
   "name": "python3"
  },
  "language_info": {
   "codemirror_mode": {
    "name": "ipython",
    "version": 3
   },
   "file_extension": ".py",
   "mimetype": "text/x-python",
   "name": "python",
   "nbconvert_exporter": "python",
   "pygments_lexer": "ipython3",
   "version": "3.9.7"
  }
 },
 "nbformat": 4,
 "nbformat_minor": 5
}
